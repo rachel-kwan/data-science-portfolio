{
 "cells": [
  {
   "cell_type": "markdown",
   "id": "9e80c798",
   "metadata": {},
   "source": [
    "For this classification exercise, I followed Chapter 3 from the '**Hands-on Machine Learning with Scikit-Learn, Keras & TensorFlow**' textbook by Aurélien Géron.\n",
    "\n",
    "Reference:\n",
    "Géron, Aurélien. Hands-On Machine Learning with Scikit-Learn, Keras, and TensorFlow: Concepts, Tools, and Techniques to Build Intelligent Systems. O'Reilly Media, 2019. "
   ]
  },
  {
   "cell_type": "code",
   "execution_count": 152,
   "id": "4f102dc6",
   "metadata": {},
   "outputs": [],
   "source": [
    "from sklearn.datasets import fetch_openml\n",
    "import pandas as pd\n",
    "import numpy as np\n",
    "import matplotlib as mpl\n",
    "import matplotlib.pyplot as plt\n",
    "\n",
    "# For binary classifier\n",
    "from sklearn.linear_model import SGDClassifier\n",
    "from sklearn.model_selection import cross_val_score, cross_val_predict\n",
    "from sklearn.base import BaseEstimator\n",
    "from sklearn.metrics import confusion_matrix, precision_score, recall_score, roc_curve, precision_recall_curve, roc_auc_score\n",
    "from sklearn.ensemble import RandomForestClassifier\n",
    "\n",
    "# For multiclass classifier\n",
    "from sklearn.svm import SVC\n",
    "from sklearn.multiclass import OneVsRestClassifier\n",
    "from sklearn.preprocessing import StandardScaler\n",
    "\n",
    "# For multilabel classifier\n",
    "from sklearn.neighbors import KNeighborsClassifier"
   ]
  },
  {
   "cell_type": "code",
   "execution_count": 2,
   "id": "cf811af9",
   "metadata": {},
   "outputs": [
    {
     "data": {
      "text/plain": [
       "dict_keys(['data', 'target', 'frame', 'categories', 'feature_names', 'target_names', 'DESCR', 'details', 'url'])"
      ]
     },
     "execution_count": 2,
     "metadata": {},
     "output_type": "execute_result"
    }
   ],
   "source": [
    "# Import MNIST dataset\n",
    "mnist = fetch_openml('mnist_784', version = 1)\n",
    "mnist.keys()"
   ]
  },
  {
   "cell_type": "code",
   "execution_count": 30,
   "id": "dfe646de",
   "metadata": {},
   "outputs": [
    {
     "name": "stdout",
     "output_type": "stream",
     "text": [
      "(70000, 784)\n",
      "(70000,)\n"
     ]
    }
   ],
   "source": [
    "X = mnist['data']\n",
    "y = mnist['target'].astype(np.uint8) # Convert labels from strings to integers\n",
    "print(X.shape) \n",
    "print(y.shape)"
   ]
  },
  {
   "cell_type": "markdown",
   "id": "0bd286d5",
   "metadata": {},
   "source": [
    "The data set contains 70,000 images and each image has 784 features, where each feature is a pixel intensity (0 = white, 255 = black). We can use matplotlib to organize the 784 features of an instance into a 28 x 28 grid to display the number."
   ]
  },
  {
   "cell_type": "code",
   "execution_count": 130,
   "id": "9824f388",
   "metadata": {},
   "outputs": [
    {
     "data": {
      "image/png": "[encoded data removed]",
      "text/plain": [
       "<Figure size 432x288 with 1 Axes>"
      ]
     },
     "metadata": {
      "needs_background": "light"
     },
     "output_type": "display_data"
    }
   ],
   "source": [
    "digit = X.loc[0]\n",
    "digit_image = digit.values.reshape(28,28)\n",
    "\n",
    "plt.imshow(digit_image, cmap = \"binary\")\n",
    "plt.axis(\"off\")\n",
    "plt.show()"
   ]
  },
  {
   "cell_type": "markdown",
   "id": "85959aa4",
   "metadata": {},
   "source": [
    "And the corresponding label is:"
   ]
  },
  {
   "cell_type": "code",
   "execution_count": 31,
   "id": "3452daed",
   "metadata": {},
   "outputs": [
    {
     "data": {
      "text/plain": [
       "5"
      ]
     },
     "execution_count": 31,
     "metadata": {},
     "output_type": "execute_result"
    }
   ],
   "source": [
    "y[0]"
   ]
  },
  {
   "cell_type": "markdown",
   "id": "7d220b2d",
   "metadata": {},
   "source": [
    "#### Split Data into Train and Test Sets\n",
    "This dataset has already been split, the first 60,000 instances are training and the last 10,000 are test. Also, the training set is already shuffled, which helps avoid problems with models that are sensitive to the order of training samples."
   ]
  },
  {
   "cell_type": "code",
   "execution_count": 32,
   "id": "199053d2",
   "metadata": {},
   "outputs": [],
   "source": [
    "X_train, X_test, y_train, y_test = X[:60000], X[60000:], y[:60000], y[60000:]"
   ]
  },
  {
   "cell_type": "markdown",
   "id": "c0aefb29",
   "metadata": {},
   "source": [
    "## *Binary Classifer*\n",
    "To start off, we'll start by training a classifer to classify whether a digit is '5' or 'not 5'.\n",
    "- SGD, Random Forest, and naive Bayes can be binary/multinomial classifiers\n",
    "- Logistic Regression, and SVM are strictly binary classifiers"
   ]
  },
  {
   "cell_type": "code",
   "execution_count": 35,
   "id": "54c70154",
   "metadata": {},
   "outputs": [],
   "source": [
    "# Create new target vectors -- True = 5, False = not 5\n",
    "y_train_5 = (y_train == 5)\n",
    "y_test_5 = (y_test == 5)"
   ]
  },
  {
   "cell_type": "markdown",
   "id": "0db6a383",
   "metadata": {},
   "source": [
    "## A. Stochastic Gradient Descent (SGD) Classifier\n",
    "- Handles large datasets efficiently: deals with one training instance at a time"
   ]
  },
  {
   "cell_type": "code",
   "execution_count": 59,
   "id": "8664e2a0",
   "metadata": {},
   "outputs": [
    {
     "data": {
      "text/plain": [
       "SGDClassifier(random_state=42)"
      ]
     },
     "execution_count": 59,
     "metadata": {},
     "output_type": "execute_result"
    }
   ],
   "source": [
    "sgd_classif = SGDClassifier(random_state = 42)\n",
    "sgd_classif.fit(X_train.values, y_train_5)"
   ]
  },
  {
   "cell_type": "markdown",
   "id": "15d55ff7",
   "metadata": {},
   "source": [
    "Test the model on a digit that we already know is a 5, the result should be 'True'."
   ]
  },
  {
   "cell_type": "code",
   "execution_count": 54,
   "id": "d7373b21",
   "metadata": {},
   "outputs": [
    {
     "data": {
      "text/plain": [
       "array([ True])"
      ]
     },
     "execution_count": 54,
     "metadata": {},
     "output_type": "execute_result"
    }
   ],
   "source": [
    "sgd_classif.predict([digit])"
   ]
  },
  {
   "cell_type": "markdown",
   "id": "5e464dd9",
   "metadata": {},
   "source": [
    "### Evaluate Performance\n",
    "***Method 1***: Cross-Validation"
   ]
  },
  {
   "cell_type": "code",
   "execution_count": 61,
   "id": "d4b6aafe",
   "metadata": {},
   "outputs": [
    {
     "data": {
      "text/plain": [
       "array([0.95035, 0.96035, 0.9604 ])"
      ]
     },
     "execution_count": 61,
     "metadata": {},
     "output_type": "execute_result"
    }
   ],
   "source": [
    "cross_val_score(sgd_classif, X_train, y_train_5, cv = 3, scoring = \"accuracy\")"
   ]
  },
  {
   "cell_type": "markdown",
   "id": "e279d8cf",
   "metadata": {},
   "source": [
    "Calculate a model baseline for accuracy to compare the cross-validation results to."
   ]
  },
  {
   "cell_type": "code",
   "execution_count": 64,
   "id": "82f74d78",
   "metadata": {},
   "outputs": [],
   "source": [
    "class Not5Classifier(BaseEstimator):\n",
    "    \n",
    "    def fit(self, X, y = None):\n",
    "        return self\n",
    "    \n",
    "    def predict(self, X):\n",
    "        return np.zeros((len(X), 1), dtype = bool)"
   ]
  },
  {
   "cell_type": "code",
   "execution_count": 65,
   "id": "8fe1c257",
   "metadata": {},
   "outputs": [
    {
     "data": {
      "text/plain": [
       "array([0.91125, 0.90855, 0.90915])"
      ]
     },
     "execution_count": 65,
     "metadata": {},
     "output_type": "execute_result"
    }
   ],
   "source": [
    "not_5_classif = Not5Classifier()\n",
    "cross_val_score(not_5_classif, X_train, y_train_5, cv = 3, scoring = \"accuracy\")"
   ]
  },
  {
   "cell_type": "markdown",
   "id": "a18f08c5",
   "metadata": {},
   "source": [
    "This naive classifer already performs with over 90% accuracy, which makes sense since if you always guess that an image is 'not 5', then you'll be right approximately 90% of the time. This is why accuracy is not ideal to evaluate classifiers, especially when the dataset is skewed (i.e. when class sizes are uneven)."
   ]
  },
  {
   "cell_type": "markdown",
   "id": "665eae17",
   "metadata": {},
   "source": [
    "***Method 2***: Confusion Matrix"
   ]
  },
  {
   "cell_type": "code",
   "execution_count": 71,
   "id": "918d9e35",
   "metadata": {},
   "outputs": [
    {
     "data": {
      "text/plain": [
       "array([[53892,   687],\n",
       "       [ 1891,  3530]])"
      ]
     },
     "execution_count": 71,
     "metadata": {},
     "output_type": "execute_result"
    }
   ],
   "source": [
    "# cross_val_predict() returns clean predictions for each test fold \n",
    "y_train_pred = cross_val_predict(sgd_classif, X_train, y_train_5, cv = 3)\n",
    "\n",
    "cnfsn_mat = confusion_matrix(y_train_5, y_train_pred) # Input targets and predictions\n",
    "cnfsn_mat"
   ]
  },
  {
   "cell_type": "code",
   "execution_count": 74,
   "id": "f73bf872",
   "metadata": {},
   "outputs": [
    {
     "name": "stdout",
     "output_type": "stream",
     "text": [
      "Precision score = 0.837\n",
      "Recall score = 0.651\n",
      "F1 Score = 0.733\n"
     ]
    }
   ],
   "source": [
    "# Precision = TP / (TP + FP) -- can use precision_score()\n",
    "precision = cnfsn_mat[1,1]/(cnfsn_mat[1,1] + cnfsn_mat[0,1])\n",
    "\n",
    "# Recall = TP / (TP + FN) aka. sensitivity, true positive rate -- can use recall_score()\n",
    "recall = cnfsn_mat[1,1]/(cnfsn_mat[1,1] + cnfsn_mat[1,0])\n",
    "\n",
    "# F1 Score = 2(precision*recall / precision+recall) -- can use f1_score()\n",
    "# This metric favours classifiers with similar recall and precision (not always desirable)\n",
    "F1 = 2*((precision*recall)/(precision+recall))\n",
    "\n",
    "print(\"Precision score = %0.3f\" % precision)\n",
    "print(\"Recall score = %0.3f\" % recall)\n",
    "print(\"F1 Score = %0.3f\" % F1)"
   ]
  },
  {
   "cell_type": "markdown",
   "id": "b301eb16",
   "metadata": {},
   "source": [
    "This means that our model to detect 5s is correct 83.7% of the time, and only detects 65.1% of the 5s. There will always be a precision-recall tradeoff; increasing precision reduces recall and vice versa."
   ]
  },
  {
   "cell_type": "markdown",
   "id": "15f6853b",
   "metadata": {},
   "source": [
    "#### Precision-Recall Tradeoff\n",
    "- Want to find threshold that optimizes precision and recall.\n",
    "- SGDClassifier() has a default threshold of 0.\n",
    "- Increasing the threshold increases precision and decreases recall, and vice versa.\n",
    "\n",
    "We'll test this on a single digit which we know is a 5:"
   ]
  },
  {
   "cell_type": "code",
   "execution_count": 88,
   "id": "0f58f952",
   "metadata": {},
   "outputs": [
    {
     "data": {
      "text/plain": [
       "array([ True])"
      ]
     },
     "execution_count": 88,
     "metadata": {},
     "output_type": "execute_result"
    }
   ],
   "source": [
    "# decision_function() returns a score for each instance\n",
    "y_scores = sgd_classif.decision_function([digit])\n",
    "threshold = 0 # Set to default\n",
    "y_digit_pred = (y_scores > threshold)\n",
    "y_digit_pred"
   ]
  },
  {
   "cell_type": "code",
   "execution_count": 89,
   "id": "4df40670",
   "metadata": {},
   "outputs": [
    {
     "data": {
      "text/plain": [
       "array([False])"
      ]
     },
     "execution_count": 89,
     "metadata": {},
     "output_type": "execute_result"
    }
   ],
   "source": [
    "threshold = 8000\n",
    "y_digit_pred = (y_scores > threshold)\n",
    "y_digit_pred"
   ]
  },
  {
   "cell_type": "markdown",
   "id": "41f1f404",
   "metadata": {},
   "source": [
    "This shows that increasing the threshold does in fact decrease recall, i.e. classifier detects the 5 as a 5 when threshold = 0 but not when threshold = 8000.\n",
    "\n",
    "To decide which threshold to use, we can use cross_cal_predict() to get scores of all instances in the training set, then feed the scores to precision_recall_curve() to calculate precision and recall for all possible thresholds."
   ]
  },
  {
   "cell_type": "code",
   "execution_count": 94,
   "id": "14d3803d",
   "metadata": {},
   "outputs": [],
   "source": [
    "# Set method to \"decision_function\" to return scores instead of label predictions\n",
    "y_scores = cross_val_predict(sgd_classif, X_train, y_train_5, cv = 3, method = \"decision_function\")\n",
    "precisions, recalls, thresholds = precision_recall_curve(y_train_5, y_scores)"
   ]
  },
  {
   "cell_type": "code",
   "execution_count": 103,
   "id": "b2a9d6aa",
   "metadata": {},
   "outputs": [
    {
     "data": {
      "image/png": "[encoded data removed]",
      "text/plain": [
       "<Figure size 432x288 with 1 Axes>"
      ]
     },
     "metadata": {
      "needs_background": "light"
     },
     "output_type": "display_data"
    }
   ],
   "source": [
    "# Create plot\n",
    "plt.plot(thresholds, precisions[:-1], \"b--\", label = \"Precision\")\n",
    "plt.plot(thresholds, recalls[:-1], \"g-\", label = \"Recall\")\n",
    "plt.legend(loc = \"center right\")\n",
    "plt.xlabel(\"Threshold\")\n",
    "plt.grid()\n",
    "plt.show()"
   ]
  },
  {
   "cell_type": "markdown",
   "id": "21baeeae",
   "metadata": {},
   "source": [
    "To make the decision it might be more helpful to look at a graph of precision vs. recall:"
   ]
  },
  {
   "cell_type": "code",
   "execution_count": 104,
   "id": "80329013",
   "metadata": {},
   "outputs": [
    {
     "data": {
      "image/png": "[encoded data removed]",
      "text/plain": [
       "<Figure size 432x288 with 1 Axes>"
      ]
     },
     "metadata": {
      "needs_background": "light"
     },
     "output_type": "display_data"
    }
   ],
   "source": [
    "plt.plot(recalls[:-1], precisions[:-1])\n",
    "plt.xlabel(\"Recall\")\n",
    "plt.ylabel(\"Precision\")\n",
    "plt.grid()\n",
    "plt.show()"
   ]
  },
  {
   "cell_type": "markdown",
   "id": "f00ae56f",
   "metadata": {},
   "source": [
    "This plot shows that precision starts to fall faster at around 80% recall. Can choose a precision/recall just before this drop, but it depends on the project. Suppose that for this project we want a precision of 90%."
   ]
  },
  {
   "cell_type": "code",
   "execution_count": 112,
   "id": "138c7b3a",
   "metadata": {},
   "outputs": [
    {
     "name": "stdout",
     "output_type": "stream",
     "text": [
      "Threshold = 3370.019499\n",
      "Precision score = 0.900035\n",
      "Recall score = 0.479985\n"
     ]
    }
   ],
   "source": [
    "# Find threshold that gives at least 90% precision\n",
    "threshold_90_precision = thresholds[np.argmax(precisions >= 0.9)]\n",
    "                                              \n",
    "# Make predictions on training set\n",
    "y_train_pred_90 = (y_scores >= threshold_90_precision)\n",
    "\n",
    "# Check precision and recall of predictions\n",
    "print(\"Threshold = %f\" % threshold_90_precision)\n",
    "print(\"Precision score = %f\" % precision_score(y_train_5, y_train_pred_90))                                         \n",
    "print(\"Recall score = %f\" % recall_score(y_train_5, y_train_pred_90))                                           "
   ]
  },
  {
   "cell_type": "markdown",
   "id": "610be9c6",
   "metadata": {},
   "source": [
    "Thus, using a threshold of 3370 will give us a 90% precision classifier.\n",
    "\n",
    "Similar to the precision/recall curve, we can also look at the **ROC curve**. It plots *true positive rate* VS. *false positive rate*, i.e. *sensitivity* (recall) VS. 1 - *specificity*."
   ]
  },
  {
   "cell_type": "code",
   "execution_count": 115,
   "id": "154fe9d0",
   "metadata": {},
   "outputs": [
    {
     "data": {
      "image/png": "[encoded data removed]",
      "text/plain": [
       "<Figure size 432x288 with 1 Axes>"
      ]
     },
     "metadata": {
      "needs_background": "light"
     },
     "output_type": "display_data"
    }
   ],
   "source": [
    "fpr, tpr, thresholds = roc_curve(y_train_5, y_scores)\n",
    "\n",
    "plt.plot(fpr, tpr, linewidth = 2)\n",
    "plt.plot([0,1], [0,1], 'k--') # Add diagonal line\n",
    "plt.xlabel(\"FPR\")\n",
    "plt.ylabel(\"TPR (Recall)\")\n",
    "plt.grid()\n",
    "plt.show()"
   ]
  },
  {
   "cell_type": "markdown",
   "id": "af4a33c5",
   "metadata": {},
   "source": [
    "We can evaluate the performance of the classifier by calculating the area under the ROC curve, using the function roc_auc_score(). "
   ]
  },
  {
   "cell_type": "code",
   "execution_count": 118,
   "id": "55083e30",
   "metadata": {},
   "outputs": [
    {
     "name": "stdout",
     "output_type": "stream",
     "text": [
      "This classifier has an ROC AUC score of 0.960494\n"
     ]
    }
   ],
   "source": [
    "auc_score = roc_auc_score(y_train_5, y_scores)\n",
    "print(\"This classifier has an ROC AUC score of %f\" % auc_score)"
   ]
  },
  {
   "cell_type": "markdown",
   "id": "29ad7cd7",
   "metadata": {},
   "source": [
    "This score is very close to 1, meaning it is close to being a perfect classifer. A naive/random classifier would have a score closer to 0.5."
   ]
  },
  {
   "cell_type": "markdown",
   "id": "5e475ab3",
   "metadata": {},
   "source": [
    "## B. Random Forest Classifier"
   ]
  },
  {
   "cell_type": "code",
   "execution_count": 78,
   "id": "1c259b3d",
   "metadata": {},
   "outputs": [],
   "source": [
    "forest_classif = RandomForestClassifier(random_state = 42)\n",
    "\n",
    "# Use predict_proba() method\n",
    "# Output is a 2d array:\n",
    "    # Rows are instances, columns are probabilities that a given instance belongs to a given class (i.e. '5' or 'not 5')\n",
    "y_prob_forest = cross_val_predict(forest_classif, X_train, y_train_5, cv = 3, method = \"predict_proba\")"
   ]
  },
  {
   "cell_type": "markdown",
   "id": "64ef04dd",
   "metadata": {},
   "source": [
    "### Evaluate Performance"
   ]
  },
  {
   "cell_type": "code",
   "execution_count": 82,
   "id": "745c0446",
   "metadata": {},
   "outputs": [],
   "source": [
    "# Need labels and scores (use positive class probabilities for scores)\n",
    "y_scores_forest = y_prob_forest[:,1]\n",
    "fpr_forest, tpr_forest, thresholds_forest = roc_curve(y_train_5, y_scores_forest)"
   ]
  },
  {
   "cell_type": "markdown",
   "id": "8a58e363",
   "metadata": {},
   "source": [
    "We'll plot this ROC curve along with the ROC curve from the SGD classifier to compare models."
   ]
  },
  {
   "cell_type": "code",
   "execution_count": 120,
   "id": "022303c5",
   "metadata": {},
   "outputs": [
    {
     "data": {
      "image/png": "[encoded data removed]",
      "text/plain": [
       "<Figure size 432x288 with 1 Axes>"
      ]
     },
     "metadata": {
      "needs_background": "light"
     },
     "output_type": "display_data"
    }
   ],
   "source": [
    "# Recall -- 'fpr' and 'tpr' are the false and true positive rates of the SGD classifier\n",
    "plt.plot(fpr, tpr, \"g:\", label = \"SGD\")\n",
    "plt.plot(fpr_forest, tpr_forest, label = \"Random Forest\")\n",
    "plt.plot([0,1], [0,1], 'k--') # Add diagonal line\n",
    "plt.legend(loc = \"lower right\")\n",
    "plt.xlabel(\"FPR\")\n",
    "plt.ylabel(\"TPR (Recall)\")\n",
    "plt.grid()\n",
    "plt.show()"
   ]
  },
  {
   "cell_type": "markdown",
   "id": "925981cb",
   "metadata": {},
   "source": [
    "From this plot it is clear that the area under the ROC curve for the Random Forest classifier is greater than that of the SGD classifer. Thus, it is a better classifier."
   ]
  },
  {
   "cell_type": "markdown",
   "id": "e9e9246d",
   "metadata": {},
   "source": [
    "# *Multiclass Classifer*"
   ]
  },
  {
   "cell_type": "markdown",
   "id": "0ec6267e",
   "metadata": {},
   "source": [
    "We will create a system of binary classifiers to classify the digits into 10 classes. In particular, we will train a SVM classifier for every pair of digits (i.e. one to classify 0s and 1s, one for 0s and 2s, and so on) which is a called the one-vs-one (OvO) strategy. This method works best for SVM classifiers since they perform better on smaller training sets, and OvO trains many classifiers on small training sets. Note: the OvR strategy is preffered for most other binary classifers.\n",
    "\n",
    "## A. SVN Classifier (OvO Strategy)"
   ]
  },
  {
   "cell_type": "code",
   "execution_count": 123,
   "id": "ad5da886",
   "metadata": {},
   "outputs": [
    {
     "data": {
      "text/plain": [
       "array([5], dtype=uint8)"
      ]
     },
     "execution_count": 123,
     "metadata": {},
     "output_type": "execute_result"
    }
   ],
   "source": [
    "svm_classif = SVC()\n",
    "# Train SVC on original target classes with digits 0-9\n",
    "# sklearn automatically chooses OvO strategy when using SVC()\n",
    "    # i.e. trained (9*8)/2 = 45 binary classifiers, got their decision scores for the image,\n",
    "    # then selected the class that 'won' the most duels.\n",
    "    # Each classifier only uses instances from the training set corresponding to its two classes.\n",
    "svm_classif.fit(X_train.values, y_train)\n",
    "svm_classif.predict([digit])"
   ]
  },
  {
   "cell_type": "code",
   "execution_count": 124,
   "id": "ea5ccf1e",
   "metadata": {},
   "outputs": [
    {
     "data": {
      "text/plain": [
       "array([[ 1.72501977,  2.72809088,  7.2510018 ,  8.3076379 , -0.31087254,\n",
       "         9.3132482 ,  1.70975103,  2.76765202,  6.23049537,  4.84771048]])"
      ]
     },
     "execution_count": 124,
     "metadata": {},
     "output_type": "execute_result"
    }
   ],
   "source": [
    "digit_scores = svm_classif.decision_function([digit])\n",
    "digit_scores"
   ]
  },
  {
   "cell_type": "markdown",
   "id": "205a33c3",
   "metadata": {},
   "source": [
    "We already know the digit is a 5, and indeed, the highest decision score corresponds to class 5."
   ]
  },
  {
   "cell_type": "markdown",
   "id": "0a46bf43",
   "metadata": {},
   "source": [
    "## B. SGD Classifier\n",
    "- Can classify instances into multiple classes without OvO or OvR."
   ]
  },
  {
   "cell_type": "code",
   "execution_count": 128,
   "id": "caa04ef2",
   "metadata": {},
   "outputs": [
    {
     "data": {
      "text/plain": [
       "array([3], dtype=uint8)"
      ]
     },
     "execution_count": 128,
     "metadata": {},
     "output_type": "execute_result"
    }
   ],
   "source": [
    "sgd_classif.fit(X_train.values, y_train)\n",
    "sgd_classif.predict([digit])"
   ]
  },
  {
   "cell_type": "code",
   "execution_count": 129,
   "id": "dc1f1333",
   "metadata": {},
   "outputs": [
    {
     "data": {
      "text/plain": [
       "array([[-31893.03095419, -34419.69069632,  -9530.63950739,\n",
       "          1823.73154031, -22320.14822878,  -1385.80478895,\n",
       "        -26188.91070951, -16147.51323997,  -4604.35491274,\n",
       "        -12050.767298  ]])"
      ]
     },
     "execution_count": 129,
     "metadata": {},
     "output_type": "execute_result"
    }
   ],
   "source": [
    "sgd_classif.decision_function([digit])"
   ]
  },
  {
   "cell_type": "markdown",
   "id": "5d8b7fde",
   "metadata": {},
   "source": [
    "### Evaluate Model"
   ]
  },
  {
   "cell_type": "code",
   "execution_count": 132,
   "id": "c827f4a6",
   "metadata": {},
   "outputs": [
    {
     "data": {
      "text/plain": [
       "array([0.87365, 0.85835, 0.8689 ])"
      ]
     },
     "execution_count": 132,
     "metadata": {},
     "output_type": "execute_result"
    }
   ],
   "source": [
    "cross_val_score(sgd_classif, X_train.values, y_train, cv = 3, scoring = \"accuracy\")"
   ]
  },
  {
   "cell_type": "markdown",
   "id": "7b53f099",
   "metadata": {},
   "source": [
    "Calculate a model baseline for accuracy to compare the cross-validation results to."
   ]
  },
  {
   "cell_type": "code",
   "execution_count": 136,
   "id": "0690eb9d",
   "metadata": {},
   "outputs": [],
   "source": [
    "class RandomClassifier(BaseEstimator):\n",
    "    \n",
    "    def fit(self, X, y = None):\n",
    "        return self\n",
    "    \n",
    "    def predict(self, X):\n",
    "        return np.zeros((len(X), 1), dtype = bool)"
   ]
  },
  {
   "cell_type": "code",
   "execution_count": 137,
   "id": "7da13c71",
   "metadata": {},
   "outputs": [
    {
     "data": {
      "text/plain": [
       "array([0.0997 , 0.0965 , 0.09995])"
      ]
     },
     "execution_count": 137,
     "metadata": {},
     "output_type": "execute_result"
    }
   ],
   "source": [
    "random_classif = RandomClassifier()\n",
    "cross_val_score(random_classif, X_train, y_train, cv = 3, scoring = \"accuracy\")"
   ]
  },
  {
   "cell_type": "markdown",
   "id": "d754ddbc",
   "metadata": {},
   "source": [
    "Using a naive/random classifier, we'd get an accuracy score of around 10%. This shows that an accuracy score of ~85% for our SGD classifier is a pretty good score. We can try scaling the inputs to increase accuracy."
   ]
  },
  {
   "cell_type": "code",
   "execution_count": 139,
   "id": "ce406142",
   "metadata": {},
   "outputs": [
    {
     "data": {
      "text/plain": [
       "array([0.8983, 0.891 , 0.9018])"
      ]
     },
     "execution_count": 139,
     "metadata": {},
     "output_type": "execute_result"
    }
   ],
   "source": [
    "scaler = StandardScaler()\n",
    "X_train_scaled = scaler.fit_transform(X_train.values.astype(np.float64))\n",
    "cross_val_score(sgd_classif, X_train_scaled, y_train, cv = 3, scoring = \"accuracy\")"
   ]
  },
  {
   "cell_type": "markdown",
   "id": "3f31d199",
   "metadata": {},
   "source": [
    "### Error Analysis\n",
    "\n",
    "#### Confusion Matrix"
   ]
  },
  {
   "cell_type": "code",
   "execution_count": 141,
   "id": "565d73a6",
   "metadata": {},
   "outputs": [
    {
     "data": {
      "text/plain": [
       "array([[5577,    0,   22,    5,    8,   43,   36,    6,  225,    1],\n",
       "       [   0, 6400,   37,   24,    4,   44,    4,    7,  212,   10],\n",
       "       [  27,   27, 5220,   92,   73,   27,   67,   36,  378,   11],\n",
       "       [  22,   17,  117, 5227,    2,  203,   27,   40,  403,   73],\n",
       "       [  12,   14,   41,    9, 5182,   12,   34,   27,  347,  164],\n",
       "       [  27,   15,   30,  168,   53, 4444,   75,   14,  535,   60],\n",
       "       [  30,   15,   42,    3,   44,   97, 5552,    3,  131,    1],\n",
       "       [  21,   10,   51,   30,   49,   12,    3, 5684,  195,  210],\n",
       "       [  17,   63,   48,   86,    3,  126,   25,   10, 5429,   44],\n",
       "       [  25,   18,   30,   64,  118,   36,    1,  179,  371, 5107]])"
      ]
     },
     "execution_count": 141,
     "metadata": {},
     "output_type": "execute_result"
    }
   ],
   "source": [
    "# Make predictions\n",
    "y_train_pred = cross_val_predict(sgd_classif, X_train_scaled, y_train, cv = 3)\n",
    "\n",
    "# Compute confusion matrix\n",
    "conf_mat = confusion_matrix(y_train, y_train_pred)\n",
    "conf_mat"
   ]
  },
  {
   "cell_type": "code",
   "execution_count": 142,
   "id": "c02d3651",
   "metadata": {},
   "outputs": [
    {
     "data": {
      "image/png": "[encoded data removed]",
      "text/plain": [
       "<Figure size 288x288 with 1 Axes>"
      ]
     },
     "metadata": {
      "needs_background": "light"
     },
     "output_type": "display_data"
    }
   ],
   "source": [
    "plt.matshow(conf_mat, cmap = plt.cm.gray)\n",
    "plt.show()"
   ]
  },
  {
   "cell_type": "markdown",
   "id": "ca173b37",
   "metadata": {},
   "source": [
    "The rows represent actual classes and columns represent predicted classes. The light shaded squares on the diagonal indicates that most images were classified correctly. The square corresponding to 5s looks very slightly darker, which suggests that either there were less images of 5s in the dataset or that the classifier doesn't perform as well on 5s, or both.\n",
    "\n",
    "Normalize matrix to visualize errors:"
   ]
  },
  {
   "cell_type": "code",
   "execution_count": 151,
   "id": "0510086a",
   "metadata": {},
   "outputs": [
    {
     "data": {
      "image/png": "[encoded data removed]",
      "text/plain": [
       "<Figure size 288x288 with 1 Axes>"
      ]
     },
     "metadata": {
      "needs_background": "light"
     },
     "output_type": "display_data"
    }
   ],
   "source": [
    "row_sums = conf_mat.sum(axis = 1, keepdims = True)\n",
    "\n",
    "# Normalize confusion matrix by dividing the entries of each row by the row sums (i.e. number of images in that class)\n",
    "norm_conf_mat = conf_mat / row_sums\n",
    "# Set diagonal entries to be 0\n",
    "np.fill_diagonal(norm_conf_mat, 0)\n",
    "\n",
    "# Plot new matrix\n",
    "plt.matshow(norm_conf_mat, cmap = plt.cm.gray)\n",
    "plt.show()"
   ]
  },
  {
   "cell_type": "markdown",
   "id": "01233aac",
   "metadata": {},
   "source": [
    "Since the column for 8 has a lot of light shaded squares, we can tell that many images are being misclassified as 8. The row for 8 is fairly dark, so 8s are generally classified correctly. It also looks like there is some misclassification between 3s and 5s (both ways). This happens because 3s and 5s differ by only a few pixels and SGD classifiers are linear, meaning it simply sums up the weighted pixel intensities to get a score for each class.\n",
    "\n",
    "So a next step would be to reduce the amount of false 8s. To do this, one can:\n",
    "- Gather more training data of digits that look like 8, but aren't.\n",
    "- Write algorithm to distinguish digits that look like 8 by counting the number of closed loops.\n",
    "- Preprocss images to make patterns (e.g. closed loops) stand out more.\n",
    "\n",
    "To reduce misclassification between 3s and 5s, one can:\n",
    "- Preprocess images so that they're centered and not rotated."
   ]
  }
 ],
 "metadata": {
  "kernelspec": {
   "display_name": "Python 3 (ipykernel)",
   "language": "python",
   "name": "python3"
  },
  "language_info": {
   "codemirror_mode": {
    "name": "ipython",
    "version": 3
   },
   "file_extension": ".py",
   "mimetype": "text/x-python",
   "name": "python",
   "nbconvert_exporter": "python",
   "pygments_lexer": "ipython3",
   "version": "3.7.4"
  }
 },
 "nbformat": 4,
 "nbformat_minor": 5
}
